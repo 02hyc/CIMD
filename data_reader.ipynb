{
 "cells": [
  {
   "cell_type": "code",
   "execution_count": 3,
   "metadata": {},
   "outputs": [],
   "source": [
    "import json"
   ]
  },
  {
   "cell_type": "code",
   "execution_count": 19,
   "metadata": {},
   "outputs": [
    {
     "name": "stdout",
     "output_type": "stream",
     "text": [
      "{\"text\": \"由实力派演员刘威饰演的清华第三任校长蒋南翔，是我国著名的青年运动家和教育家，他跟清华终身校长梅贻琦一样，都是由清华人自己培养出来的校长。历史上的蒋南翔是著名的“一二九”学生救亡运动的领导人之一，他在清华校长之位14年期间，不但很好的继承了清华建校之初的优秀传统与理念，而且更加的发扬光大，他把清华的教师队伍扩大了将近5倍，将清华本科人数破万，为新中国培养了大量的有用人才。在《天行健》中饰演蒋南翔的刘威是观众所熟悉的著名实力派演员，早在1987年刘威就在《关东大侠》中饰演豪爽仗义的关云天一角而\", \"label\": {\"err_idiom\": {}, \"cor_idiom\": {\"发扬光大\": [[139, 142, \"发扬光大\"]]}}}\n",
      "\n",
      "0\n"
     ]
    }
   ],
   "source": [
    "import json\n",
    "\n",
    "with open('/home/yukino/Documents/Code/NLP/CIMD/GlobalPointer/datasets/ChID/train_big.json', 'r', encoding='utf-8') as file:\n",
    "    print(file.readlines()[0])\n",
    "    print(len(file.readlines()))"
   ]
  },
  {
   "cell_type": "code",
   "execution_count": 21,
   "metadata": {},
   "outputs": [
    {
     "name": "stdout",
     "output_type": "stream",
     "text": [
      "{'发扬光大': [[139, 142, '发扬光大']]}\n"
     ]
    }
   ],
   "source": [
    "with open('/home/yukino/Documents/Code/NLP/CIMD/GlobalPointer/datasets/ChID/train_big.json', 'r', encoding='utf-8') as file:\n",
    "    data = file.readlines()[0]\n",
    "    data = json.loads(data)\n",
    "    print(data[\"label\"][\"cor_idiom\"])"
   ]
  }
 ],
 "metadata": {
  "kernelspec": {
   "display_name": "backend",
   "language": "python",
   "name": "python3"
  },
  "language_info": {
   "codemirror_mode": {
    "name": "ipython",
    "version": 3
   },
   "file_extension": ".py",
   "mimetype": "text/x-python",
   "name": "python",
   "nbconvert_exporter": "python",
   "pygments_lexer": "ipython3",
   "version": "3.8.10"
  }
 },
 "nbformat": 4,
 "nbformat_minor": 2
}
